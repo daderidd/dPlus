{
 "cells": [
  {
   "cell_type": "code",
   "execution_count": null,
   "id": "0",
   "metadata": {},
   "outputs": [],
   "source": [
    "import geopandas as gpd\n",
    "import osmnx as ox\n",
    "import numpy as np\n",
    "import pandas as pd\n",
    "import requests\n",
    "import time\n",
    "import networkx as nx\n",
    "import numpy as np\n",
    "import sys\n",
    "\n",
    "import logging as lg\n",
    "import multiprocessing as mp\n",
    "import time\n",
    "from hashlib import sha1\n",
    "from urllib.parse import urlparse\n",
    "from pathlib import Path\n",
    "from typing import TYPE_CHECKING\n",
    "from typing import Any\n",
    "import folium\n",
    "from shapely.geometry import Point"
   ]
  },
  {
   "cell_type": "code",
   "execution_count": null,
   "id": "1",
   "metadata": {},
   "outputs": [],
   "source": [
    "?folium.Map"
   ]
  },
  {
   "cell_type": "code",
   "execution_count": null,
   "id": "2",
   "metadata": {},
   "outputs": [],
   "source": [
    "def _hostname_from_url(url: str) -> str:\n",
    "    \"\"\"\n",
    "    Extract the hostname (domain) from a URL.\n",
    "\n",
    "    Parameters\n",
    "    ----------\n",
    "    url\n",
    "        The url from which to extract the hostname.\n",
    "\n",
    "    Returns\n",
    "    -------\n",
    "    hostname\n",
    "        The extracted hostname (domain).\n",
    "    \"\"\"\n",
    "    return urlparse(url).netloc.split(\":\")[0]\n"
   ]
  },
  {
   "cell_type": "code",
   "execution_count": null,
   "id": "3",
   "metadata": {},
   "outputs": [],
   "source": [
    "# add elevation to each of the nodes, using the Open Topo Data, then calculate edge grades\n",
    "G = ox.graph.graph_from_place(\"Canton de Genève, Switzerland\", network_type=\"drive\")\n",
    "original_elevation_url = ox.settings.elevation_url_template\n",
    "ox.settings.elevation_url_template = (\n",
    "    \"http://localhost:5001/v1/eudem25m?locations={locations}\"\n",
    ")"
   ]
  },
  {
   "cell_type": "code",
   "execution_count": null,
   "id": "4",
   "metadata": {},
   "outputs": [],
   "source": [
    "# ox.settings.elevation_url_template = (\n",
    "#     \"https://api.opentopodata.org/v1/aster30m?locations={locations}\"\n",
    "# )\n",
    "# G = ox.elevation.add_node_elevations_google(G, batch_size=100, pause=1)\n",
    "# G = ox.elevation.add_edge_grades(G)\n",
    "# ox.settings.elevation_url_template = original_elevation_url"
   ]
  },
  {
   "cell_type": "code",
   "execution_count": null,
   "id": "5",
   "metadata": {},
   "outputs": [],
   "source": [
    "ox.settings.elevation_url_template = (\n",
    "    \"http://localhost:5001/v1/eudem25m?locations={locations}\"\n",
    ")\n",
    "G = ox.elevation.add_node_elevations_google(G, batch_size = 500, pause=0.01)\n",
    "G = ox.elevation.add_edge_grades(G)"
   ]
  },
  {
   "cell_type": "code",
   "execution_count": null,
   "id": "6",
   "metadata": {},
   "outputs": [],
   "source": [
    "# get a color for each edge, by grade, then plot the network\n",
    "ec = ox.plot.get_edge_colors_by_attr(G, \"grade_abs\", cmap=\"plasma\", num_bins=5, equal_size=True)\n",
    "fig, ax = ox.plot.plot_graph(G, edge_color=ec, edge_linewidth=0.5, node_size=0, bgcolor=\"k\")"
   ]
  }
 ],
 "metadata": {
  "kernelspec": {
   "display_name": "dplus",
   "language": "python",
   "name": "dplus"
  },
  "language_info": {
   "codemirror_mode": {
    "name": "ipython",
    "version": 3
   },
   "file_extension": ".py",
   "mimetype": "text/x-python",
   "name": "python",
   "nbconvert_exporter": "python",
   "pygments_lexer": "ipython3",
   "version": "3.12.9"
  }
 },
 "nbformat": 4,
 "nbformat_minor": 5
}
